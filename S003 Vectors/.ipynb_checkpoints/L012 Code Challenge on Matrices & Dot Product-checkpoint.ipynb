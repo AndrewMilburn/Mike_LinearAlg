{
 "cells": [
  {
   "cell_type": "code",
   "execution_count": 1,
   "id": "dfa3df9f",
   "metadata": {},
   "outputs": [],
   "source": [
    "%matplotlib notebook\n",
    "import numpy as np\n",
    "import matplotlib.pyplot as plt\n",
    "from mpl_toolkits.mplot3d import Axes3D"
   ]
  },
  {
   "cell_type": "markdown",
   "id": "5d50d505",
   "metadata": {},
   "source": [
    "Create 2 4x6 matrices of random numbers\n",
    "Use a for loop to compute the dot products between corresponding columns"
   ]
  },
  {
   "cell_type": "code",
   "execution_count": 3,
   "id": "ddc39996",
   "metadata": {},
   "outputs": [
    {
     "ename": "SyntaxError",
     "evalue": "cannot assign to function call (<ipython-input-3-00534c8bdeb3>, line 6)",
     "output_type": "error",
     "traceback": [
      "\u001b[1;36m  File \u001b[1;32m\"<ipython-input-3-00534c8bdeb3>\"\u001b[1;36m, line \u001b[1;32m6\u001b[0m\n\u001b[1;33m    c(x) = np.dot(A(x), B(x))\u001b[0m\n\u001b[1;37m    ^\u001b[0m\n\u001b[1;31mSyntaxError\u001b[0m\u001b[1;31m:\u001b[0m cannot assign to function call\n"
     ]
    }
   ],
   "source": [
    "A = np.random.rand(4,6)\n",
    "B = np.random.rand(4,6)\n",
    "c = np.arange(6)\n",
    "\n",
    "for x in range(6):\n",
    "    c(x) = np.dot(A(x), B(x))\n",
    "\n",
    "print(c)\n"
   ]
  },
  {
   "cell_type": "code",
   "execution_count": 4,
   "id": "2cf11a6f",
   "metadata": {},
   "outputs": [
    {
     "name": "stdout",
     "output_type": "stream",
     "text": [
      "[0 1 2 3 4 5]\n"
     ]
    }
   ],
   "source": [
    "print(c)"
   ]
  },
  {
   "cell_type": "code",
   "execution_count": 5,
   "id": "2a7693c3",
   "metadata": {},
   "outputs": [
    {
     "name": "stdout",
     "output_type": "stream",
     "text": [
      "[[0.98839935 0.17776186 0.15666563 0.66046231 0.01170951 0.13090008]\n",
      " [0.38427223 0.68156442 0.10799742 0.54442547 0.48146429 0.29590969]\n",
      " [0.29624775 0.82999228 0.71949001 0.1384412  0.16820391 0.81650082]\n",
      " [0.04388499 0.37306052 0.627573   0.97715011 0.86457598 0.63489206]]\n"
     ]
    }
   ],
   "source": [
    "print(A)"
   ]
  },
  {
   "cell_type": "code",
   "execution_count": 6,
   "id": "1b0375a9",
   "metadata": {},
   "outputs": [
    {
     "ename": "ValueError",
     "evalue": "shapes (0,6) and (0,6) not aligned: 6 (dim 1) != 0 (dim 0)",
     "output_type": "error",
     "traceback": [
      "\u001b[1;31m---------------------------------------------------------------------------\u001b[0m",
      "\u001b[1;31mValueError\u001b[0m                                Traceback (most recent call last)",
      "\u001b[1;32m<ipython-input-6-86bf59298b7b>\u001b[0m in \u001b[0;36m<module>\u001b[1;34m\u001b[0m\n\u001b[0;32m      4\u001b[0m \u001b[1;33m\u001b[0m\u001b[0m\n\u001b[0;32m      5\u001b[0m \u001b[1;32mfor\u001b[0m \u001b[0mi\u001b[0m \u001b[1;32min\u001b[0m \u001b[0mrange\u001b[0m\u001b[1;33m(\u001b[0m\u001b[1;36m6\u001b[0m\u001b[1;33m)\u001b[0m\u001b[1;33m:\u001b[0m\u001b[1;33m\u001b[0m\u001b[1;33m\u001b[0m\u001b[0m\n\u001b[1;32m----> 6\u001b[1;33m     \u001b[0mc\u001b[0m\u001b[1;33m[\u001b[0m\u001b[0mi\u001b[0m\u001b[1;33m]\u001b[0m \u001b[1;33m=\u001b[0m \u001b[0mnp\u001b[0m\u001b[1;33m.\u001b[0m\u001b[0mdot\u001b[0m\u001b[1;33m(\u001b[0m\u001b[0mA\u001b[0m\u001b[1;33m[\u001b[0m\u001b[1;33m:\u001b[0m\u001b[0mi\u001b[0m\u001b[1;33m]\u001b[0m\u001b[1;33m,\u001b[0m \u001b[0mB\u001b[0m\u001b[1;33m[\u001b[0m\u001b[1;33m:\u001b[0m\u001b[0mi\u001b[0m\u001b[1;33m]\u001b[0m\u001b[1;33m)\u001b[0m\u001b[1;33m\u001b[0m\u001b[1;33m\u001b[0m\u001b[0m\n\u001b[0m\u001b[0;32m      7\u001b[0m \u001b[1;33m\u001b[0m\u001b[0m\n\u001b[0;32m      8\u001b[0m \u001b[0mprint\u001b[0m\u001b[1;33m(\u001b[0m\u001b[0mc\u001b[0m\u001b[1;33m)\u001b[0m\u001b[1;33m\u001b[0m\u001b[1;33m\u001b[0m\u001b[0m\n",
      "\u001b[1;32m<__array_function__ internals>\u001b[0m in \u001b[0;36mdot\u001b[1;34m(*args, **kwargs)\u001b[0m\n",
      "\u001b[1;31mValueError\u001b[0m: shapes (0,6) and (0,6) not aligned: 6 (dim 1) != 0 (dim 0)"
     ]
    }
   ],
   "source": [
    "A = np.random.rand(4,6)\n",
    "B = np.random.rand(4,6)\n",
    "c = np.arange(6)\n",
    "\n",
    "for i in range(6):\n",
    "    c[i] = np.dot(A[:i], B[:i])\n",
    "\n",
    "print(c)\n"
   ]
  },
  {
   "cell_type": "code",
   "execution_count": 7,
   "id": "74cf4322",
   "metadata": {},
   "outputs": [
    {
     "name": "stdout",
     "output_type": "stream",
     "text": [
      "[1 1 2 3 4 5]\n"
     ]
    }
   ],
   "source": [
    "A = np.random.rand(4,6)\n",
    "B = np.random.rand(4,6)\n",
    "c = np.arange(6)\n",
    "\n",
    "A = np.random.rand(4,6)\n",
    "B = np.random.rand(4,6)\n",
    "c = np.arange(6)\n",
    "\n",
    "#for i in range(6):\n",
    " #   c[i] = np.dot(A[:i], B[:i])\n",
    "\n",
    "\n",
    "c[i] = np.dot(A[:, i], B[:, i])\n",
    "\n",
    "print(c)"
   ]
  },
  {
   "cell_type": "code",
   "execution_count": 26,
   "id": "dccdf49c",
   "metadata": {},
   "outputs": [
    {
     "name": "stdout",
     "output_type": "stream",
     "text": [
      "[[0.53868323 0.13238455 0.05092848 0.89389884 0.9371973  0.8367433 ]\n",
      " [0.20441703 0.04743702 0.72754182 0.408217   0.59117047 0.32191318]\n",
      " [0.28150624 0.59310013 0.96284569 0.10858642 0.90347843 0.60819356]\n",
      " [0.08336862 0.11333899 0.32956105 0.37403775 0.35966092 0.5864276 ]]\n",
      "[[0.71112698 0.32739707 0.36777669 0.68102612 0.16079279 0.7112859 ]\n",
      " [0.37394068 0.55617988 0.44499875 0.62595421 0.90750129 0.81833892]\n",
      " [0.03362171 0.45795303 0.36997381 0.9107718  0.87511678 0.57108963]\n",
      " [0.64197756 0.89400728 0.16865653 0.02949917 0.90559263 0.59080608]]\n",
      "\n",
      "[0 0 0 0 1 1]\n"
     ]
    }
   ],
   "source": [
    "A = np.random.rand(4,6)\n",
    "B = np.random.rand(4,6)\n",
    "c = np.arange(6)\n",
    "\n",
    "print(A)\n",
    "print(B)\n",
    "print(\"\")\n",
    "for i in range(6):\n",
    "    c[i] = np.dot(A[:, i], B[:, i])\n",
    "\n",
    "print(c)"
   ]
  },
  {
   "cell_type": "code",
   "execution_count": 28,
   "id": "75d04b6d",
   "metadata": {
    "scrolled": true
   },
   "outputs": [
    {
     "name": "stdout",
     "output_type": "stream",
     "text": [
      "[[1.98923658e-01 7.29690238e-01 3.96664196e-01 9.46903511e-04\n",
      "  7.24722212e-01 1.66318929e-01]\n",
      " [3.80554706e-01 7.55492902e-01 3.24716224e-01 4.48315821e-01\n",
      "  2.85243304e-01 7.87713028e-01]\n",
      " [4.62975884e-01 5.28775823e-01 1.41153771e-01 1.00259024e-01\n",
      "  2.93873921e-01 2.55271540e-01]\n",
      " [9.79011051e-01 1.08840028e-01 2.34257703e-02 8.62011690e-01\n",
      "  8.53063681e-01 7.55878342e-01]]\n",
      "[[0.10699563 0.07970084 0.06065204 0.127382   0.55169469 0.25052036]\n",
      " [0.52646197 0.15746005 0.32024365 0.96907965 0.35742696 0.02707107]\n",
      " [0.49768807 0.41341404 0.20837169 0.64005791 0.50567605 0.92125456]\n",
      " [0.63026064 0.01005583 0.71978208 0.16216267 0.280399   0.79622918]]\n",
      "\n",
      "[1.06908125 0.3968147  0.1743207  0.63853206 0.88958225 0.90001297]\n"
     ]
    }
   ],
   "source": [
    "A = np.random.rand(4,6)\n",
    "B = np.random.rand(4,6)\n",
    "c = np.zeros(6)\n",
    "\n",
    "print(A)\n",
    "print(B)\n",
    "print(\"\")\n",
    "for i in range(6):\n",
    "    c[i] = np.dot(A[:, i], B[:, i])\n",
    "\n",
    "print(c)"
   ]
  },
  {
   "cell_type": "code",
   "execution_count": 31,
   "id": "bebda779",
   "metadata": {
    "scrolled": true
   },
   "outputs": [
    {
     "name": "stdout",
     "output_type": "stream",
     "text": [
      "[1.069081246851798, 0.39681470283089293, 0.17432069923041213, 0.6385320584620193, 0.889582250770655, 0.9000129747109819]\n"
     ]
    }
   ],
   "source": [
    "result = [np.dot(A[:,column], B[:,column]) for column in range(A.shape[1])]\n",
    "print(result)"
   ]
  },
  {
   "cell_type": "markdown",
   "id": "bbea70b1",
   "metadata": {},
   "source": [
    "Indeed, A is a matrix with 6 columns. The loop iterates over those columns, which means we can extract the numbers from each column separately. The colon here is used for slicing. So A[:,0] means \"all rows from the first column.\" "
   ]
  }
 ],
 "metadata": {
  "kernelspec": {
   "display_name": "Python 3",
   "language": "python",
   "name": "python3"
  },
  "language_info": {
   "codemirror_mode": {
    "name": "ipython",
    "version": 3
   },
   "file_extension": ".py",
   "mimetype": "text/x-python",
   "name": "python",
   "nbconvert_exporter": "python",
   "pygments_lexer": "ipython3",
   "version": "3.8.8"
  }
 },
 "nbformat": 4,
 "nbformat_minor": 5
}
