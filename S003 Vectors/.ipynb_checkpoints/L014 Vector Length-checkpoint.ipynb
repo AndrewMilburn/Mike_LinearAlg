{
 "cells": [
  {
   "cell_type": "code",
   "execution_count": 1,
   "id": "3829fc74",
   "metadata": {},
   "outputs": [],
   "source": [
    "import numpy as np"
   ]
  },
  {
   "cell_type": "code",
   "execution_count": 2,
   "id": "78f3c2d7",
   "metadata": {},
   "outputs": [
    {
     "name": "stdout",
     "output_type": "stream",
     "text": [
      "91\n"
     ]
    }
   ],
   "source": [
    "v1 = np.array([1, 2, 3, 4, 5, 6])\n",
    "v1L = np.dot(v1, v1)\n",
    "print (v1L)"
   ]
  },
  {
   "cell_type": "markdown",
   "id": "1c30b063",
   "metadata": {},
   "source": [
    "Aaargghh - Now remember to take the square root"
   ]
  },
  {
   "cell_type": "code",
   "execution_count": 4,
   "id": "b1cfdba7",
   "metadata": {},
   "outputs": [
    {
     "name": "stdout",
     "output_type": "stream",
     "text": [
      "9.539392014169456\n"
     ]
    }
   ],
   "source": [
    "print (np.sqrt(v1L))"
   ]
  },
  {
   "cell_type": "code",
   "execution_count": null,
   "id": "54af09e0",
   "metadata": {},
   "outputs": [],
   "source": []
  }
 ],
 "metadata": {
  "kernelspec": {
   "display_name": "Python 3",
   "language": "python",
   "name": "python3"
  },
  "language_info": {
   "codemirror_mode": {
    "name": "ipython",
    "version": 3
   },
   "file_extension": ".py",
   "mimetype": "text/x-python",
   "name": "python",
   "nbconvert_exporter": "python",
   "pygments_lexer": "ipython3",
   "version": "3.8.8"
  }
 },
 "nbformat": 4,
 "nbformat_minor": 5
}
