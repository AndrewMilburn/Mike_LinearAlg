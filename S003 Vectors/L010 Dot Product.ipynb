{
 "cells": [
  {
   "cell_type": "code",
   "execution_count": 1,
   "id": "d854330c",
   "metadata": {},
   "outputs": [],
   "source": [
    "%matplotlib notebook\n",
    "import numpy as np\n",
    "import matplotlib.pyplot as plt\n",
    "from mpl_toolkits.mplot3d import Axes3D"
   ]
  },
  {
   "cell_type": "code",
   "execution_count": 4,
   "id": "2f9815c8",
   "metadata": {},
   "outputs": [
    {
     "name": "stdout",
     "output_type": "stream",
     "text": [
      "32 32 32 32\n"
     ]
    }
   ],
   "source": [
    "v1 = np.array([1, 2, 3, 4, 5])\n",
    "v2 = np.array([0, -4, -3, 6, 5])\n",
    "\n",
    "# Notation 1\n",
    "dp1 = sum(np.multiply(v1, v2))\n",
    "\n",
    "# Notation 2\n",
    "dp2 = np.dot(v1, v2)\n",
    "\n",
    "# Notation 3\n",
    "dp3 = np.matmul(v1, v2)\n",
    "\n",
    "# Notation 4\n",
    "dp4 = 0\n",
    "for i in range(0, len(v1)):\n",
    "    dp4 = dp4 + v1[i] * v2[i]\n",
    "\n",
    "print(dp1, dp2, dp3, dp4)\n"
   ]
  },
  {
   "cell_type": "markdown",
   "id": "a66c0c34",
   "metadata": {},
   "source": [
    "Method 2 is probably the best for clarity"
   ]
  }
 ],
 "metadata": {
  "kernelspec": {
   "display_name": "Python 3",
   "language": "python",
   "name": "python3"
  },
  "language_info": {
   "codemirror_mode": {
    "name": "ipython",
    "version": 3
   },
   "file_extension": ".py",
   "mimetype": "text/x-python",
   "name": "python",
   "nbconvert_exporter": "python",
   "pygments_lexer": "ipython3",
   "version": "3.8.8"
  }
 },
 "nbformat": 4,
 "nbformat_minor": 5
}
