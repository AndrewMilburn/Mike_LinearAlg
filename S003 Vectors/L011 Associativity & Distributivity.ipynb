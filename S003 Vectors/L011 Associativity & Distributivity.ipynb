{
 "cells": [
  {
   "cell_type": "code",
   "execution_count": 1,
   "id": "120044bc",
   "metadata": {},
   "outputs": [],
   "source": [
    "%matplotlib notebook\n",
    "import numpy as np\n",
    "import matplotlib.pyplot as plt\n",
    "from mpl_toolkits.mplot3d import Axes3D"
   ]
  },
  {
   "cell_type": "code",
   "execution_count": 2,
   "id": "28effc30",
   "metadata": {},
   "outputs": [
    {
     "name": "stdout",
     "output_type": "stream",
     "text": [
      "[array([-1.40429646, -0.99924346,  1.17213951, -0.17888147,  0.32664225,\n",
      "       -1.83459859, -0.89630666, -0.42846429,  0.25933838,  0.46044156]), array([ 1.32312159, -0.12869618, -0.37054033,  1.84705756, -0.83054939,\n",
      "       -0.60507153, -0.02799191,  1.0781758 , -1.54713089,  0.35251608]), array([ 2.03365404, -0.53900799,  0.93453674, -1.11897925, -0.13848789,\n",
      "        0.9838851 , -0.66976799, -0.92279851, -0.93061036, -0.18598993])]\n",
      "[-4.534430305287384, -4.534430305287383]\n"
     ]
    }
   ],
   "source": [
    "## Distributive\n",
    "# Create random vectors\n",
    "\n",
    "n = 10\n",
    "a = np.random.randn(n)\n",
    "b = np.random.randn(n)\n",
    "c = np.random.randn(n)\n",
    "print([a, b, c])\n",
    "\n",
    "dist1 = np.dot(a, (b + c))\n",
    "dist2 = np.dot(a, b) + np.dot(a, c)\n",
    "print([dist1, dist2])\n"
   ]
  },
  {
   "cell_type": "code",
   "execution_count": 3,
   "id": "1f4a079b",
   "metadata": {},
   "outputs": [
    {
     "name": "stdout",
     "output_type": "stream",
     "text": [
      "[array([-0.37179876, -0.26455772,  0.31033334, -0.0473603 ,  0.08648116,\n",
      "       -0.4857247 , -0.23730438, -0.11343936,  0.06866192,  0.1219056 ]), array([-4.74085932,  1.25653676, -2.17859436,  2.60856719,  0.3228433 ,\n",
      "       -2.29363538,  1.56136479,  2.15123017,  2.16944117,  0.43358019])]\n"
     ]
    }
   ],
   "source": [
    "ass1 = np.dot(a, np.dot(b, c))\n",
    "ass2 = np.dot(np.dot(a, b), c)\n",
    "print([ass1, ass2])\n"
   ]
  },
  {
   "cell_type": "code",
   "execution_count": null,
   "id": "a8e963ac",
   "metadata": {},
   "outputs": [],
   "source": []
  }
 ],
 "metadata": {
  "kernelspec": {
   "display_name": "Python 3",
   "language": "python",
   "name": "python3"
  },
  "language_info": {
   "codemirror_mode": {
    "name": "ipython",
    "version": 3
   },
   "file_extension": ".py",
   "mimetype": "text/x-python",
   "name": "python",
   "nbconvert_exporter": "python",
   "pygments_lexer": "ipython3",
   "version": "3.8.8"
  }
 },
 "nbformat": 4,
 "nbformat_minor": 5
}
